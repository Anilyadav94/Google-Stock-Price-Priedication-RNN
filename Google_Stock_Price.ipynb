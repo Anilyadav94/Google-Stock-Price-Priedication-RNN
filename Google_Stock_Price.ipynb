{
  "nbformat": 4,
  "nbformat_minor": 0,
  "metadata": {
    "colab": {
      "name": "Google Stock Price",
      "provenance": [],
      "authorship_tag": "ABX9TyMTBAiZvxYeG5mXXNbcHx/B",
      "include_colab_link": true
    },
    "kernelspec": {
      "name": "python3",
      "display_name": "Python 3"
    }
  },
  "cells": [
    {
      "cell_type": "markdown",
      "metadata": {
        "id": "view-in-github",
        "colab_type": "text"
      },
      "source": [
        "<a href=\"https://colab.research.google.com/github/Anilyadav94/Google-Stock-Price-Priedication-RNN/blob/main/Google_Stock_Price.ipynb\" target=\"_parent\"><img src=\"https://colab.research.google.com/assets/colab-badge.svg\" alt=\"Open In Colab\"/></a>"
      ]
    },
    {
      "cell_type": "code",
      "metadata": {
        "id": "HJbJlxjOLptX"
      },
      "source": [
        "import numpy as np\r\n",
        "import matplotlib.pyplot as plt\r\n",
        "import pandas as pd\r\n",
        "from sklearn.preprocessing import MinMaxScaler"
      ],
      "execution_count": 1,
      "outputs": []
    },
    {
      "cell_type": "code",
      "metadata": {
        "id": "RIyTNeVELp0V"
      },
      "source": [
        "dataset_train = pd.read_csv(\"trainset.csv\")"
      ],
      "execution_count": 3,
      "outputs": []
    },
    {
      "cell_type": "code",
      "metadata": {
        "id": "jy-IoYV0LqAJ",
        "colab": {
          "base_uri": "https://localhost:8080/",
          "height": 204
        },
        "outputId": "a008b563-be31-4225-fa4f-e4f242e197dc"
      },
      "source": [
        "dataset_train.tail()"
      ],
      "execution_count": 4,
      "outputs": [
        {
          "output_type": "execute_result",
          "data": {
            "text/html": [
              "<div>\n",
              "<style scoped>\n",
              "    .dataframe tbody tr th:only-of-type {\n",
              "        vertical-align: middle;\n",
              "    }\n",
              "\n",
              "    .dataframe tbody tr th {\n",
              "        vertical-align: top;\n",
              "    }\n",
              "\n",
              "    .dataframe thead th {\n",
              "        text-align: right;\n",
              "    }\n",
              "</style>\n",
              "<table border=\"1\" class=\"dataframe\">\n",
              "  <thead>\n",
              "    <tr style=\"text-align: right;\">\n",
              "      <th></th>\n",
              "      <th>Date</th>\n",
              "      <th>Open</th>\n",
              "      <th>High</th>\n",
              "      <th>Low</th>\n",
              "      <th>Close</th>\n",
              "      <th>Adj Close</th>\n",
              "      <th>Volume</th>\n",
              "    </tr>\n",
              "  </thead>\n",
              "  <tbody>\n",
              "    <tr>\n",
              "      <th>1254</th>\n",
              "      <td>2017-12-22</td>\n",
              "      <td>1061.109985</td>\n",
              "      <td>1064.199951</td>\n",
              "      <td>1059.439941</td>\n",
              "      <td>1060.119995</td>\n",
              "      <td>1060.119995</td>\n",
              "      <td>755100</td>\n",
              "    </tr>\n",
              "    <tr>\n",
              "      <th>1255</th>\n",
              "      <td>2017-12-26</td>\n",
              "      <td>1058.069946</td>\n",
              "      <td>1060.119995</td>\n",
              "      <td>1050.199951</td>\n",
              "      <td>1056.739990</td>\n",
              "      <td>1056.739990</td>\n",
              "      <td>760600</td>\n",
              "    </tr>\n",
              "    <tr>\n",
              "      <th>1256</th>\n",
              "      <td>2017-12-27</td>\n",
              "      <td>1057.390015</td>\n",
              "      <td>1058.369995</td>\n",
              "      <td>1048.050049</td>\n",
              "      <td>1049.369995</td>\n",
              "      <td>1049.369995</td>\n",
              "      <td>1271900</td>\n",
              "    </tr>\n",
              "    <tr>\n",
              "      <th>1257</th>\n",
              "      <td>2017-12-28</td>\n",
              "      <td>1051.599976</td>\n",
              "      <td>1054.750000</td>\n",
              "      <td>1044.770020</td>\n",
              "      <td>1048.140015</td>\n",
              "      <td>1048.140015</td>\n",
              "      <td>837100</td>\n",
              "    </tr>\n",
              "    <tr>\n",
              "      <th>1258</th>\n",
              "      <td>2017-12-29</td>\n",
              "      <td>1046.719971</td>\n",
              "      <td>1049.699951</td>\n",
              "      <td>1044.900024</td>\n",
              "      <td>1046.400024</td>\n",
              "      <td>1046.400024</td>\n",
              "      <td>887500</td>\n",
              "    </tr>\n",
              "  </tbody>\n",
              "</table>\n",
              "</div>"
            ],
            "text/plain": [
              "            Date         Open         High  ...        Close    Adj Close   Volume\n",
              "1254  2017-12-22  1061.109985  1064.199951  ...  1060.119995  1060.119995   755100\n",
              "1255  2017-12-26  1058.069946  1060.119995  ...  1056.739990  1056.739990   760600\n",
              "1256  2017-12-27  1057.390015  1058.369995  ...  1049.369995  1049.369995  1271900\n",
              "1257  2017-12-28  1051.599976  1054.750000  ...  1048.140015  1048.140015   837100\n",
              "1258  2017-12-29  1046.719971  1049.699951  ...  1046.400024  1046.400024   887500\n",
              "\n",
              "[5 rows x 7 columns]"
            ]
          },
          "metadata": {
            "tags": []
          },
          "execution_count": 4
        }
      ]
    },
    {
      "cell_type": "code",
      "metadata": {
        "id": "tbNrZ16xXlWl"
      },
      "source": [
        "trainset = dataset_train.iloc[:,1:2].values"
      ],
      "execution_count": 5,
      "outputs": []
    },
    {
      "cell_type": "code",
      "metadata": {
        "colab": {
          "base_uri": "https://localhost:8080/"
        },
        "id": "DrcnMNR7XlZs",
        "outputId": "1e5e9702-d558-491e-c352-6c6cb2c6aa40"
      },
      "source": [
        "trainset"
      ],
      "execution_count": 6,
      "outputs": [
        {
          "output_type": "execute_result",
          "data": {
            "text/plain": [
              "array([[ 357.385559],\n",
              "       [ 360.122742],\n",
              "       [ 362.313507],\n",
              "       ...,\n",
              "       [1057.390015],\n",
              "       [1051.599976],\n",
              "       [1046.719971]])"
            ]
          },
          "metadata": {
            "tags": []
          },
          "execution_count": 6
        }
      ]
    },
    {
      "cell_type": "code",
      "metadata": {
        "id": "JGbosdY1XldO"
      },
      "source": [
        "from sklearn.preprocessing import MinMaxScaler\r\n",
        "sc = MinMaxScaler(feature_range = (0,1))\r\n",
        "training_scaled = sc.fit_transform(trainset)"
      ],
      "execution_count": 7,
      "outputs": []
    },
    {
      "cell_type": "code",
      "metadata": {
        "colab": {
          "base_uri": "https://localhost:8080/"
        },
        "id": "9ZCfdA3wXvke",
        "outputId": "89b4a949-1569-491f-c51c-46e608046cab"
      },
      "source": [
        "training_scaled"
      ],
      "execution_count": 8,
      "outputs": [
        {
          "output_type": "execute_result",
          "data": {
            "text/plain": [
              "array([[0.01011148],\n",
              "       [0.01388614],\n",
              "       [0.01690727],\n",
              "       ...,\n",
              "       [0.97543954],\n",
              "       [0.9674549 ],\n",
              "       [0.96072522]])"
            ]
          },
          "metadata": {
            "tags": []
          },
          "execution_count": 8
        }
      ]
    },
    {
      "cell_type": "code",
      "metadata": {
        "id": "srRryRw_Xvmu"
      },
      "source": [
        "x_train = []\r\n",
        "y_train = []"
      ],
      "execution_count": 9,
      "outputs": []
    },
    {
      "cell_type": "code",
      "metadata": {
        "id": "x43mIbMoXvqM"
      },
      "source": [
        "for i in range(60,1259):\r\n",
        "    x_train.append(training_scaled[i-60:i, 0])\r\n",
        "    y_train.append(training_scaled[i,0])\r\n",
        "x_train,y_train = np.array(x_train),np.array(y_train)"
      ],
      "execution_count": 10,
      "outputs": []
    },
    {
      "cell_type": "code",
      "metadata": {
        "colab": {
          "base_uri": "https://localhost:8080/"
        },
        "id": "TZXamx_GXvtm",
        "outputId": "8818ecb5-0318-4f22-d573-a95a57cba127"
      },
      "source": [
        "x_train.shape"
      ],
      "execution_count": 11,
      "outputs": [
        {
          "output_type": "execute_result",
          "data": {
            "text/plain": [
              "(1199, 60)"
            ]
          },
          "metadata": {
            "tags": []
          },
          "execution_count": 11
        }
      ]
    },
    {
      "cell_type": "code",
      "metadata": {
        "id": "x79lDsv9XvxO"
      },
      "source": [
        "x_train = np.reshape(x_train, (x_train.shape[0],x_train.shape[1],1))"
      ],
      "execution_count": 12,
      "outputs": []
    },
    {
      "cell_type": "code",
      "metadata": {
        "id": "TmZZRWY8YjMF"
      },
      "source": [
        "from keras.models import Sequential\r\n",
        "from keras.layers import Dense\r\n",
        "from keras.layers import LSTM\r\n",
        "from keras.layers import Dropout"
      ],
      "execution_count": 13,
      "outputs": []
    },
    {
      "cell_type": "code",
      "metadata": {
        "id": "-gKnIb4_YjPV"
      },
      "source": [
        "regressor = Sequential()\r\n",
        "regressor.add(LSTM(units = 50,return_sequences = True,input_shape = (x_train.shape[1],1)))"
      ],
      "execution_count": 14,
      "outputs": []
    },
    {
      "cell_type": "code",
      "metadata": {
        "id": "e_Lkh8erYjS9"
      },
      "source": [
        "regressor.add(Dropout(0.2))"
      ],
      "execution_count": 15,
      "outputs": []
    },
    {
      "cell_type": "code",
      "metadata": {
        "id": "55T7lgYfYjW5"
      },
      "source": [
        "regressor.add(LSTM(units = 50,return_sequences = True))\r\n",
        "regressor.add(Dropout(0.2))"
      ],
      "execution_count": 16,
      "outputs": []
    },
    {
      "cell_type": "code",
      "metadata": {
        "id": "YHldKV0jYjac"
      },
      "source": [
        "regressor.add(LSTM(units = 50,return_sequences = True))\r\n",
        "regressor.add(Dropout(0.2))"
      ],
      "execution_count": 17,
      "outputs": []
    },
    {
      "cell_type": "code",
      "metadata": {
        "id": "74LHR4NGYkBO"
      },
      "source": [
        "regressor.add(LSTM(units = 50))\r\n",
        "regressor.add(Dropout(0.2))"
      ],
      "execution_count": 18,
      "outputs": []
    },
    {
      "cell_type": "code",
      "metadata": {
        "id": "mrBPPKxAXv1K"
      },
      "source": [
        "regressor.add(Dense(units = 1))"
      ],
      "execution_count": 19,
      "outputs": []
    },
    {
      "cell_type": "code",
      "metadata": {
        "id": "JapdoaBEZJTX"
      },
      "source": [
        "regressor.compile(optimizer = 'adam',loss = 'mean_squared_error')"
      ],
      "execution_count": 20,
      "outputs": []
    },
    {
      "cell_type": "code",
      "metadata": {
        "colab": {
          "base_uri": "https://localhost:8080/"
        },
        "id": "OLcUyoy_ZJWD",
        "outputId": "2449b675-4d4c-46a9-d9eb-96d7d9e346a1"
      },
      "source": [
        "regressor.fit(x_train,y_train,epochs = 100, batch_size = 32)"
      ],
      "execution_count": 21,
      "outputs": [
        {
          "output_type": "stream",
          "text": [
            "Epoch 1/100\n",
            "38/38 [==============================] - 8s 74ms/step - loss: 0.0666\n",
            "Epoch 2/100\n",
            "38/38 [==============================] - 3s 80ms/step - loss: 0.0053\n",
            "Epoch 3/100\n",
            "38/38 [==============================] - 3s 78ms/step - loss: 0.0040\n",
            "Epoch 4/100\n",
            "38/38 [==============================] - 3s 82ms/step - loss: 0.0033\n",
            "Epoch 5/100\n",
            "38/38 [==============================] - 3s 77ms/step - loss: 0.0036\n",
            "Epoch 6/100\n",
            "38/38 [==============================] - 3s 81ms/step - loss: 0.0036\n",
            "Epoch 7/100\n",
            "38/38 [==============================] - 3s 90ms/step - loss: 0.0036\n",
            "Epoch 8/100\n",
            "38/38 [==============================] - 3s 91ms/step - loss: 0.0031\n",
            "Epoch 9/100\n",
            "38/38 [==============================] - 3s 78ms/step - loss: 0.0025\n",
            "Epoch 10/100\n",
            "38/38 [==============================] - 3s 73ms/step - loss: 0.0033\n",
            "Epoch 11/100\n",
            "38/38 [==============================] - 3s 74ms/step - loss: 0.0035\n",
            "Epoch 12/100\n",
            "38/38 [==============================] - 3s 78ms/step - loss: 0.0028\n",
            "Epoch 13/100\n",
            "38/38 [==============================] - 3s 76ms/step - loss: 0.0028\n",
            "Epoch 14/100\n",
            "38/38 [==============================] - 3s 78ms/step - loss: 0.0028\n",
            "Epoch 15/100\n",
            "38/38 [==============================] - 3s 81ms/step - loss: 0.0034\n",
            "Epoch 16/100\n",
            "38/38 [==============================] - 3s 77ms/step - loss: 0.0024\n",
            "Epoch 17/100\n",
            "38/38 [==============================] - 3s 76ms/step - loss: 0.0027\n",
            "Epoch 18/100\n",
            "38/38 [==============================] - 3s 73ms/step - loss: 0.0027\n",
            "Epoch 19/100\n",
            "38/38 [==============================] - 3s 75ms/step - loss: 0.0026\n",
            "Epoch 20/100\n",
            "38/38 [==============================] - 3s 73ms/step - loss: 0.0024\n",
            "Epoch 21/100\n",
            "38/38 [==============================] - 3s 75ms/step - loss: 0.0030\n",
            "Epoch 22/100\n",
            "38/38 [==============================] - 3s 74ms/step - loss: 0.0023\n",
            "Epoch 23/100\n",
            "38/38 [==============================] - 3s 77ms/step - loss: 0.0024\n",
            "Epoch 24/100\n",
            "38/38 [==============================] - 3s 72ms/step - loss: 0.0024\n",
            "Epoch 25/100\n",
            "38/38 [==============================] - 3s 75ms/step - loss: 0.0021\n",
            "Epoch 26/100\n",
            "38/38 [==============================] - 3s 77ms/step - loss: 0.0027\n",
            "Epoch 27/100\n",
            "38/38 [==============================] - 3s 80ms/step - loss: 0.0023\n",
            "Epoch 28/100\n",
            "38/38 [==============================] - 3s 78ms/step - loss: 0.0021\n",
            "Epoch 29/100\n",
            "38/38 [==============================] - 3s 73ms/step - loss: 0.0022\n",
            "Epoch 30/100\n",
            "38/38 [==============================] - 3s 80ms/step - loss: 0.0021\n",
            "Epoch 31/100\n",
            "38/38 [==============================] - 3s 73ms/step - loss: 0.0017\n",
            "Epoch 32/100\n",
            "38/38 [==============================] - 3s 74ms/step - loss: 0.0018\n",
            "Epoch 33/100\n",
            "38/38 [==============================] - 3s 74ms/step - loss: 0.0022\n",
            "Epoch 34/100\n",
            "38/38 [==============================] - 3s 83ms/step - loss: 0.0019\n",
            "Epoch 35/100\n",
            "38/38 [==============================] - 3s 74ms/step - loss: 0.0021\n",
            "Epoch 36/100\n",
            "38/38 [==============================] - 3s 75ms/step - loss: 0.0020\n",
            "Epoch 37/100\n",
            "38/38 [==============================] - 3s 75ms/step - loss: 0.0017\n",
            "Epoch 38/100\n",
            "38/38 [==============================] - 3s 74ms/step - loss: 0.0023\n",
            "Epoch 39/100\n",
            "38/38 [==============================] - 3s 79ms/step - loss: 0.0021\n",
            "Epoch 40/100\n",
            "38/38 [==============================] - 3s 79ms/step - loss: 0.0017\n",
            "Epoch 41/100\n",
            "38/38 [==============================] - 3s 82ms/step - loss: 0.0020\n",
            "Epoch 42/100\n",
            "38/38 [==============================] - 3s 75ms/step - loss: 0.0022\n",
            "Epoch 43/100\n",
            "38/38 [==============================] - 3s 74ms/step - loss: 0.0017\n",
            "Epoch 44/100\n",
            "38/38 [==============================] - 3s 89ms/step - loss: 0.0016\n",
            "Epoch 45/100\n",
            "38/38 [==============================] - 3s 83ms/step - loss: 0.0018\n",
            "Epoch 46/100\n",
            "38/38 [==============================] - 3s 74ms/step - loss: 0.0016\n",
            "Epoch 47/100\n",
            "38/38 [==============================] - 3s 74ms/step - loss: 0.0017\n",
            "Epoch 48/100\n",
            "38/38 [==============================] - 3s 84ms/step - loss: 0.0018\n",
            "Epoch 49/100\n",
            "38/38 [==============================] - 3s 79ms/step - loss: 0.0016\n",
            "Epoch 50/100\n",
            "38/38 [==============================] - 3s 78ms/step - loss: 0.0018\n",
            "Epoch 51/100\n",
            "38/38 [==============================] - 3s 74ms/step - loss: 0.0019\n",
            "Epoch 52/100\n",
            "38/38 [==============================] - 3s 75ms/step - loss: 0.0017\n",
            "Epoch 53/100\n",
            "38/38 [==============================] - 3s 77ms/step - loss: 0.0016\n",
            "Epoch 54/100\n",
            "38/38 [==============================] - 3s 75ms/step - loss: 0.0017\n",
            "Epoch 55/100\n",
            "38/38 [==============================] - 3s 91ms/step - loss: 0.0018\n",
            "Epoch 56/100\n",
            "38/38 [==============================] - 3s 79ms/step - loss: 0.0014\n",
            "Epoch 57/100\n",
            "38/38 [==============================] - 3s 74ms/step - loss: 0.0016\n",
            "Epoch 58/100\n",
            "38/38 [==============================] - 3s 74ms/step - loss: 0.0012\n",
            "Epoch 59/100\n",
            "38/38 [==============================] - 3s 74ms/step - loss: 0.0017\n",
            "Epoch 60/100\n",
            "38/38 [==============================] - 3s 76ms/step - loss: 0.0016\n",
            "Epoch 61/100\n",
            "38/38 [==============================] - 3s 76ms/step - loss: 0.0014\n",
            "Epoch 62/100\n",
            "38/38 [==============================] - 3s 82ms/step - loss: 0.0014\n",
            "Epoch 63/100\n",
            "38/38 [==============================] - 3s 90ms/step - loss: 0.0016\n",
            "Epoch 64/100\n",
            "38/38 [==============================] - 3s 84ms/step - loss: 0.0013\n",
            "Epoch 65/100\n",
            "38/38 [==============================] - 3s 80ms/step - loss: 0.0013\n",
            "Epoch 66/100\n",
            "38/38 [==============================] - 3s 85ms/step - loss: 0.0016\n",
            "Epoch 67/100\n",
            "38/38 [==============================] - 3s 88ms/step - loss: 0.0014\n",
            "Epoch 68/100\n",
            "38/38 [==============================] - 3s 77ms/step - loss: 0.0013\n",
            "Epoch 69/100\n",
            "38/38 [==============================] - 3s 80ms/step - loss: 0.0012\n",
            "Epoch 70/100\n",
            "38/38 [==============================] - 3s 74ms/step - loss: 0.0012\n",
            "Epoch 71/100\n",
            "38/38 [==============================] - 3s 73ms/step - loss: 0.0012\n",
            "Epoch 72/100\n",
            "38/38 [==============================] - 3s 85ms/step - loss: 0.0013\n",
            "Epoch 73/100\n",
            "38/38 [==============================] - 3s 79ms/step - loss: 0.0013\n",
            "Epoch 74/100\n",
            "38/38 [==============================] - 3s 73ms/step - loss: 0.0012\n",
            "Epoch 75/100\n",
            "38/38 [==============================] - 3s 78ms/step - loss: 0.0012\n",
            "Epoch 76/100\n",
            "38/38 [==============================] - 3s 86ms/step - loss: 0.0013\n",
            "Epoch 77/100\n",
            "38/38 [==============================] - 3s 77ms/step - loss: 0.0011\n",
            "Epoch 78/100\n",
            "38/38 [==============================] - 3s 73ms/step - loss: 0.0014\n",
            "Epoch 79/100\n",
            "38/38 [==============================] - 3s 77ms/step - loss: 0.0014\n",
            "Epoch 80/100\n",
            "38/38 [==============================] - 3s 75ms/step - loss: 0.0014\n",
            "Epoch 81/100\n",
            "38/38 [==============================] - 3s 80ms/step - loss: 0.0014\n",
            "Epoch 82/100\n",
            "38/38 [==============================] - 3s 75ms/step - loss: 0.0013\n",
            "Epoch 83/100\n",
            "38/38 [==============================] - 3s 81ms/step - loss: 0.0014\n",
            "Epoch 84/100\n",
            "38/38 [==============================] - 3s 73ms/step - loss: 0.0014\n",
            "Epoch 85/100\n",
            "38/38 [==============================] - 3s 76ms/step - loss: 0.0013\n",
            "Epoch 86/100\n",
            "38/38 [==============================] - 3s 72ms/step - loss: 0.0011\n",
            "Epoch 87/100\n",
            "38/38 [==============================] - 3s 76ms/step - loss: 0.0012\n",
            "Epoch 88/100\n",
            "38/38 [==============================] - 3s 73ms/step - loss: 9.8045e-04\n",
            "Epoch 89/100\n",
            "38/38 [==============================] - 3s 80ms/step - loss: 0.0011\n",
            "Epoch 90/100\n",
            "38/38 [==============================] - 3s 73ms/step - loss: 0.0010\n",
            "Epoch 91/100\n",
            "38/38 [==============================] - 3s 73ms/step - loss: 0.0010\n",
            "Epoch 92/100\n",
            "38/38 [==============================] - 3s 73ms/step - loss: 0.0010\n",
            "Epoch 93/100\n",
            "38/38 [==============================] - 3s 72ms/step - loss: 0.0014\n",
            "Epoch 94/100\n",
            "38/38 [==============================] - 3s 72ms/step - loss: 0.0011\n",
            "Epoch 95/100\n",
            "38/38 [==============================] - 3s 74ms/step - loss: 9.6974e-04\n",
            "Epoch 96/100\n",
            "38/38 [==============================] - 3s 72ms/step - loss: 0.0010\n",
            "Epoch 97/100\n",
            "38/38 [==============================] - 3s 78ms/step - loss: 0.0010\n",
            "Epoch 98/100\n",
            "38/38 [==============================] - 3s 87ms/step - loss: 0.0012\n",
            "Epoch 99/100\n",
            "38/38 [==============================] - 3s 72ms/step - loss: 0.0011\n",
            "Epoch 100/100\n",
            "38/38 [==============================] - 3s 76ms/step - loss: 8.5917e-04\n"
          ],
          "name": "stdout"
        },
        {
          "output_type": "execute_result",
          "data": {
            "text/plain": [
              "<tensorflow.python.keras.callbacks.History at 0x7fbe86254ef0>"
            ]
          },
          "metadata": {
            "tags": []
          },
          "execution_count": 21
        }
      ]
    },
    {
      "cell_type": "code",
      "metadata": {
        "id": "ioyUL8fbZJaQ"
      },
      "source": [
        "dataset_test =pd.read_csv(\"testset.csv\")"
      ],
      "execution_count": 22,
      "outputs": []
    },
    {
      "cell_type": "code",
      "metadata": {
        "id": "_cULDEodZJdN"
      },
      "source": [
        "real_stock_price = dataset_test.iloc[:,1:2].values"
      ],
      "execution_count": 23,
      "outputs": []
    },
    {
      "cell_type": "code",
      "metadata": {
        "colab": {
          "base_uri": "https://localhost:8080/"
        },
        "id": "5A5wDS3PZJgy",
        "outputId": "1422bd1b-20c4-4b9b-8c75-051f4a0914dc"
      },
      "source": [
        "dataset_total = pd.concat((dataset_train['Open'],dataset_test['Open']),axis = 0)\r\n",
        "dataset_total"
      ],
      "execution_count": 24,
      "outputs": [
        {
          "output_type": "execute_result",
          "data": {
            "text/plain": [
              "0       357.385559\n",
              "1       360.122742\n",
              "2       362.313507\n",
              "3       365.348755\n",
              "4       365.393463\n",
              "          ...     \n",
              "120    1143.599976\n",
              "121    1128.000000\n",
              "122    1121.339966\n",
              "123    1102.089966\n",
              "124    1120.000000\n",
              "Name: Open, Length: 1384, dtype: float64"
            ]
          },
          "metadata": {
            "tags": []
          },
          "execution_count": 24
        }
      ]
    },
    {
      "cell_type": "code",
      "metadata": {
        "colab": {
          "base_uri": "https://localhost:8080/"
        },
        "id": "w_vOAYE0ZJlG",
        "outputId": "f8e2219f-9ff0-4c20-8f0e-e0c7369111ee"
      },
      "source": [
        "inputs = dataset_total[len(dataset_total) - len(dataset_test)-60:].values\r\n",
        "inputs"
      ],
      "execution_count": 25,
      "outputs": [
        {
          "output_type": "execute_result",
          "data": {
            "text/plain": [
              "array([ 955.48999 ,  966.700012,  980.      ,  980.      ,  973.719971,\n",
              "        987.450012,  992.      ,  992.099976,  990.289978,  991.77002 ,\n",
              "        986.      ,  989.440002,  989.52002 ,  970.      ,  968.369995,\n",
              "        980.      , 1009.190002, 1014.      , 1015.219971, 1017.210022,\n",
              "       1021.76001 , 1022.109985, 1028.98999 , 1027.27002 , 1030.52002 ,\n",
              "       1033.98999 , 1026.459961, 1023.419983, 1022.590027, 1019.210022,\n",
              "       1022.52002 , 1034.01001 , 1020.26001 , 1023.309998, 1035.      ,\n",
              "       1035.869995, 1040.      , 1055.089966, 1042.680054, 1022.369995,\n",
              "       1015.799988, 1012.659973,  995.940002, 1001.5     , 1020.429993,\n",
              "       1037.48999 , 1035.5     , 1039.630005, 1046.119995, 1045.      ,\n",
              "       1054.609985, 1066.079956, 1075.199951, 1071.780029, 1064.949951,\n",
              "       1061.109985, 1058.069946, 1057.390015, 1051.599976, 1046.719971,\n",
              "       1048.339966, 1064.310059, 1088.      , 1094.      , 1102.22998 ,\n",
              "       1109.400024, 1097.099976, 1106.300049, 1102.410034, 1132.51001 ,\n",
              "       1126.219971, 1131.410034, 1131.829956, 1137.48999 , 1159.849976,\n",
              "       1177.329956, 1172.530029, 1175.079956, 1176.47998 , 1167.829956,\n",
              "       1170.569946, 1162.609985, 1122.      , 1090.599976, 1027.180054,\n",
              "       1081.540039, 1055.410034, 1017.25    , 1048.      , 1045.      ,\n",
              "       1048.949951, 1079.069946, 1088.410034, 1090.569946, 1106.469971,\n",
              "       1116.189941, 1112.640015, 1127.800049, 1141.23999 , 1123.030029,\n",
              "       1107.869995, 1053.079956, 1075.140015, 1099.219971, 1089.189941,\n",
              "       1115.319946, 1136.      , 1163.849976, 1170.      , 1145.209961,\n",
              "       1149.959961, 1154.140015, 1120.01001 , 1099.      , 1092.73999 ,\n",
              "       1081.880005, 1047.030029, 1046.      , 1063.      ,  998.      ,\n",
              "       1011.630005, 1022.820007, 1013.909973,  993.409973, 1041.329956,\n",
              "       1020.      , 1016.799988, 1026.439941, 1027.98999 , 1025.040039,\n",
              "       1040.880005, 1037.      , 1051.369995, 1077.430054, 1069.400024,\n",
              "       1082.      , 1077.859985, 1052.      , 1025.52002 , 1029.51001 ,\n",
              "       1046.      , 1030.01001 , 1013.659973, 1028.099976, 1019.      ,\n",
              "       1016.900024, 1049.22998 , 1058.540039, 1058.099976, 1086.030029,\n",
              "       1093.599976, 1100.      , 1090.      , 1077.310059, 1079.890015,\n",
              "       1061.859985, 1074.060059, 1083.560059, 1065.130005, 1079.      ,\n",
              "       1079.02002 , 1064.890015, 1063.030029, 1067.560059, 1099.349976,\n",
              "       1122.329956, 1140.98999 , 1142.170044, 1131.319946, 1118.180054,\n",
              "       1118.599976, 1131.069946, 1141.119995, 1143.849976, 1148.859985,\n",
              "       1143.650024, 1158.5     , 1175.310059, 1174.849976, 1159.140015,\n",
              "       1143.599976, 1128.      , 1121.339966, 1102.089966, 1120.      ])"
            ]
          },
          "metadata": {
            "tags": []
          },
          "execution_count": 25
        }
      ]
    },
    {
      "cell_type": "code",
      "metadata": {
        "id": "zDPD72CrZJov"
      },
      "source": [
        "inputs = inputs.reshape(-1,1)"
      ],
      "execution_count": 26,
      "outputs": []
    },
    {
      "cell_type": "code",
      "metadata": {
        "colab": {
          "base_uri": "https://localhost:8080/"
        },
        "id": "zRRsDB9QZKqg",
        "outputId": "9efffdd3-e5b2-407a-ec8f-a5c5edc9606f"
      },
      "source": [
        "inputs"
      ],
      "execution_count": 27,
      "outputs": [
        {
          "output_type": "execute_result",
          "data": {
            "text/plain": [
              "array([[ 955.48999 ],\n",
              "       [ 966.700012],\n",
              "       [ 980.      ],\n",
              "       [ 980.      ],\n",
              "       [ 973.719971],\n",
              "       [ 987.450012],\n",
              "       [ 992.      ],\n",
              "       [ 992.099976],\n",
              "       [ 990.289978],\n",
              "       [ 991.77002 ],\n",
              "       [ 986.      ],\n",
              "       [ 989.440002],\n",
              "       [ 989.52002 ],\n",
              "       [ 970.      ],\n",
              "       [ 968.369995],\n",
              "       [ 980.      ],\n",
              "       [1009.190002],\n",
              "       [1014.      ],\n",
              "       [1015.219971],\n",
              "       [1017.210022],\n",
              "       [1021.76001 ],\n",
              "       [1022.109985],\n",
              "       [1028.98999 ],\n",
              "       [1027.27002 ],\n",
              "       [1030.52002 ],\n",
              "       [1033.98999 ],\n",
              "       [1026.459961],\n",
              "       [1023.419983],\n",
              "       [1022.590027],\n",
              "       [1019.210022],\n",
              "       [1022.52002 ],\n",
              "       [1034.01001 ],\n",
              "       [1020.26001 ],\n",
              "       [1023.309998],\n",
              "       [1035.      ],\n",
              "       [1035.869995],\n",
              "       [1040.      ],\n",
              "       [1055.089966],\n",
              "       [1042.680054],\n",
              "       [1022.369995],\n",
              "       [1015.799988],\n",
              "       [1012.659973],\n",
              "       [ 995.940002],\n",
              "       [1001.5     ],\n",
              "       [1020.429993],\n",
              "       [1037.48999 ],\n",
              "       [1035.5     ],\n",
              "       [1039.630005],\n",
              "       [1046.119995],\n",
              "       [1045.      ],\n",
              "       [1054.609985],\n",
              "       [1066.079956],\n",
              "       [1075.199951],\n",
              "       [1071.780029],\n",
              "       [1064.949951],\n",
              "       [1061.109985],\n",
              "       [1058.069946],\n",
              "       [1057.390015],\n",
              "       [1051.599976],\n",
              "       [1046.719971],\n",
              "       [1048.339966],\n",
              "       [1064.310059],\n",
              "       [1088.      ],\n",
              "       [1094.      ],\n",
              "       [1102.22998 ],\n",
              "       [1109.400024],\n",
              "       [1097.099976],\n",
              "       [1106.300049],\n",
              "       [1102.410034],\n",
              "       [1132.51001 ],\n",
              "       [1126.219971],\n",
              "       [1131.410034],\n",
              "       [1131.829956],\n",
              "       [1137.48999 ],\n",
              "       [1159.849976],\n",
              "       [1177.329956],\n",
              "       [1172.530029],\n",
              "       [1175.079956],\n",
              "       [1176.47998 ],\n",
              "       [1167.829956],\n",
              "       [1170.569946],\n",
              "       [1162.609985],\n",
              "       [1122.      ],\n",
              "       [1090.599976],\n",
              "       [1027.180054],\n",
              "       [1081.540039],\n",
              "       [1055.410034],\n",
              "       [1017.25    ],\n",
              "       [1048.      ],\n",
              "       [1045.      ],\n",
              "       [1048.949951],\n",
              "       [1079.069946],\n",
              "       [1088.410034],\n",
              "       [1090.569946],\n",
              "       [1106.469971],\n",
              "       [1116.189941],\n",
              "       [1112.640015],\n",
              "       [1127.800049],\n",
              "       [1141.23999 ],\n",
              "       [1123.030029],\n",
              "       [1107.869995],\n",
              "       [1053.079956],\n",
              "       [1075.140015],\n",
              "       [1099.219971],\n",
              "       [1089.189941],\n",
              "       [1115.319946],\n",
              "       [1136.      ],\n",
              "       [1163.849976],\n",
              "       [1170.      ],\n",
              "       [1145.209961],\n",
              "       [1149.959961],\n",
              "       [1154.140015],\n",
              "       [1120.01001 ],\n",
              "       [1099.      ],\n",
              "       [1092.73999 ],\n",
              "       [1081.880005],\n",
              "       [1047.030029],\n",
              "       [1046.      ],\n",
              "       [1063.      ],\n",
              "       [ 998.      ],\n",
              "       [1011.630005],\n",
              "       [1022.820007],\n",
              "       [1013.909973],\n",
              "       [ 993.409973],\n",
              "       [1041.329956],\n",
              "       [1020.      ],\n",
              "       [1016.799988],\n",
              "       [1026.439941],\n",
              "       [1027.98999 ],\n",
              "       [1025.040039],\n",
              "       [1040.880005],\n",
              "       [1037.      ],\n",
              "       [1051.369995],\n",
              "       [1077.430054],\n",
              "       [1069.400024],\n",
              "       [1082.      ],\n",
              "       [1077.859985],\n",
              "       [1052.      ],\n",
              "       [1025.52002 ],\n",
              "       [1029.51001 ],\n",
              "       [1046.      ],\n",
              "       [1030.01001 ],\n",
              "       [1013.659973],\n",
              "       [1028.099976],\n",
              "       [1019.      ],\n",
              "       [1016.900024],\n",
              "       [1049.22998 ],\n",
              "       [1058.540039],\n",
              "       [1058.099976],\n",
              "       [1086.030029],\n",
              "       [1093.599976],\n",
              "       [1100.      ],\n",
              "       [1090.      ],\n",
              "       [1077.310059],\n",
              "       [1079.890015],\n",
              "       [1061.859985],\n",
              "       [1074.060059],\n",
              "       [1083.560059],\n",
              "       [1065.130005],\n",
              "       [1079.      ],\n",
              "       [1079.02002 ],\n",
              "       [1064.890015],\n",
              "       [1063.030029],\n",
              "       [1067.560059],\n",
              "       [1099.349976],\n",
              "       [1122.329956],\n",
              "       [1140.98999 ],\n",
              "       [1142.170044],\n",
              "       [1131.319946],\n",
              "       [1118.180054],\n",
              "       [1118.599976],\n",
              "       [1131.069946],\n",
              "       [1141.119995],\n",
              "       [1143.849976],\n",
              "       [1148.859985],\n",
              "       [1143.650024],\n",
              "       [1158.5     ],\n",
              "       [1175.310059],\n",
              "       [1174.849976],\n",
              "       [1159.140015],\n",
              "       [1143.599976],\n",
              "       [1128.      ],\n",
              "       [1121.339966],\n",
              "       [1102.089966],\n",
              "       [1120.      ]])"
            ]
          },
          "metadata": {
            "tags": []
          },
          "execution_count": 27
        }
      ]
    },
    {
      "cell_type": "code",
      "metadata": {
        "colab": {
          "base_uri": "https://localhost:8080/"
        },
        "id": "5o3smMGAcKTb",
        "outputId": "1519b471-2b56-43b6-c24f-661e005b48c6"
      },
      "source": [
        "inputs = sc.transform(inputs)\r\n",
        "inputs.shape"
      ],
      "execution_count": 28,
      "outputs": [
        {
          "output_type": "execute_result",
          "data": {
            "text/plain": [
              "(185, 1)"
            ]
          },
          "metadata": {
            "tags": []
          },
          "execution_count": 28
        }
      ]
    },
    {
      "cell_type": "code",
      "metadata": {
        "id": "6tB8QRtPcQmI"
      },
      "source": [
        "x_test = []\r\n",
        "for i in range(60,185):\r\n",
        "    x_test.append(inputs[i-60:i,0])"
      ],
      "execution_count": 29,
      "outputs": []
    },
    {
      "cell_type": "code",
      "metadata": {
        "colab": {
          "base_uri": "https://localhost:8080/"
        },
        "id": "zlIJ2BiscUDb",
        "outputId": "2e3857ea-5a58-49b2-a042-812b12452653"
      },
      "source": [
        "x_test = np.array(x_test)\r\n",
        "x_test.shape"
      ],
      "execution_count": 30,
      "outputs": [
        {
          "output_type": "execute_result",
          "data": {
            "text/plain": [
              "(125, 60)"
            ]
          },
          "metadata": {
            "tags": []
          },
          "execution_count": 30
        }
      ]
    },
    {
      "cell_type": "code",
      "metadata": {
        "colab": {
          "base_uri": "https://localhost:8080/"
        },
        "id": "tuSE-BbbcXmS",
        "outputId": "862c104a-8e94-4f09-fc45-845f938dd37a"
      },
      "source": [
        "x_test = np.reshape(x_test, (x_test.shape[0],x_test.shape[1],1))\r\n",
        "x_test.shape"
      ],
      "execution_count": 31,
      "outputs": [
        {
          "output_type": "execute_result",
          "data": {
            "text/plain": [
              "(125, 60, 1)"
            ]
          },
          "metadata": {
            "tags": []
          },
          "execution_count": 31
        }
      ]
    },
    {
      "cell_type": "code",
      "metadata": {
        "id": "BU0b5Ri-ccW5"
      },
      "source": [
        "predicted_price = regressor.predict(x_test)"
      ],
      "execution_count": 32,
      "outputs": []
    },
    {
      "cell_type": "code",
      "metadata": {
        "colab": {
          "base_uri": "https://localhost:8080/"
        },
        "id": "2uOMrPfLciXS",
        "outputId": "f08f7771-7cf8-4d08-f3b2-87e8807a951c"
      },
      "source": [
        "predicted_price = sc.inverse_transform(predicted_price)\r\n",
        "predicted_price"
      ],
      "execution_count": 33,
      "outputs": [
        {
          "output_type": "execute_result",
          "data": {
            "text/plain": [
              "array([[1025.983  ],\n",
              "       [1024.5236 ],\n",
              "       [1026.6028 ],\n",
              "       [1034.6007 ],\n",
              "       [1045.5707 ],\n",
              "       [1056.1517 ],\n",
              "       [1064.466  ],\n",
              "       [1067.4352 ],\n",
              "       [1067.653  ],\n",
              "       [1066.5292 ],\n",
              "       [1070.0773 ],\n",
              "       [1076.02   ],\n",
              "       [1082.2535 ],\n",
              "       [1086.9767 ],\n",
              "       [1090.5012 ],\n",
              "       [1096.323  ],\n",
              "       [1105.7418 ],\n",
              "       [1114.5482 ],\n",
              "       [1120.5779 ],\n",
              "       [1123.7262 ],\n",
              "       [1123.5822 ],\n",
              "       [1122.3462 ],\n",
              "       [1120.3961 ],\n",
              "       [1112.7815 ],\n",
              "       [1098.2834 ],\n",
              "       [1073.8695 ],\n",
              "       [1056.2642 ],\n",
              "       [1047.0157 ],\n",
              "       [1038.8171 ],\n",
              "       [1035.1816 ],\n",
              "       [1035.24   ],\n",
              "       [1037.2904 ],\n",
              "       [1043.6895 ],\n",
              "       [1052.7059 ],\n",
              "       [1060.5609 ],\n",
              "       [1067.1952 ],\n",
              "       [1072.9595 ],\n",
              "       [1076.3507 ],\n",
              "       [1079.6044 ],\n",
              "       [1084.7034 ],\n",
              "       [1087.3846 ],\n",
              "       [1084.9797 ],\n",
              "       [1071.751  ],\n",
              "       [1057.5366 ],\n",
              "       [1052.248  ],\n",
              "       [1054.218  ],\n",
              "       [1063.1099 ],\n",
              "       [1076.7931 ],\n",
              "       [1093.6155 ],\n",
              "       [1108.6267 ],\n",
              "       [1114.2142 ],\n",
              "       [1112.6958 ],\n",
              "       [1109.0676 ],\n",
              "       [1101.3673 ],\n",
              "       [1089.7979 ],\n",
              "       [1078.001  ],\n",
              "       [1068.1727 ],\n",
              "       [1057.0402 ],\n",
              "       [1046.5525 ],\n",
              "       [1041.7136 ],\n",
              "       [1032.563  ],\n",
              "       [1021.9444 ],\n",
              "       [1015.01904],\n",
              "       [1011.4127 ],\n",
              "       [1006.75   ],\n",
              "       [1008.1055 ],\n",
              "       [1010.9931 ],\n",
              "       [1011.90216],\n",
              "       [1011.7648 ],\n",
              "       [1011.3618 ],\n",
              "       [1010.4036 ],\n",
              "       [1011.46735],\n",
              "       [1013.3807 ],\n",
              "       [1017.1015 ],\n",
              "       [1025.2622 ],\n",
              "       [1033.4451 ],\n",
              "       [1040.5968 ],\n",
              "       [1044.7903 ],\n",
              "       [1042.1141 ],\n",
              "       [1031.4014 ],\n",
              "       [1018.94037],\n",
              "       [1012.4691 ],\n",
              "       [1010.454  ],\n",
              "       [1008.32446],\n",
              "       [1007.5739 ],\n",
              "       [1006.8688 ],\n",
              "       [1005.57764],\n",
              "       [1008.9306 ],\n",
              "       [1016.91394],\n",
              "       [1025.382  ],\n",
              "       [1035.3818 ],\n",
              "       [1045.4403 ],\n",
              "       [1053.875  ],\n",
              "       [1057.6222 ],\n",
              "       [1055.4373 ],\n",
              "       [1050.7849 ],\n",
              "       [1044.1361 ],\n",
              "       [1039.9838 ],\n",
              "       [1040.9354 ],\n",
              "       [1042.4299 ],\n",
              "       [1044.9102 ],\n",
              "       [1047.6512 ],\n",
              "       [1047.6517 ],\n",
              "       [1045.1353 ],\n",
              "       [1042.5789 ],\n",
              "       [1046.1001 ],\n",
              "       [1057.2904 ],\n",
              "       [1073.2375 ],\n",
              "       [1087.4053 ],\n",
              "       [1094.2251 ],\n",
              "       [1092.5105 ],\n",
              "       [1086.6239 ],\n",
              "       [1082.9738 ],\n",
              "       [1084.6938 ],\n",
              "       [1090.2494 ],\n",
              "       [1097.1147 ],\n",
              "       [1101.8884 ],\n",
              "       [1106.1381 ],\n",
              "       [1112.2534 ],\n",
              "       [1118.5464 ],\n",
              "       [1120.8044 ],\n",
              "       [1117.3026 ],\n",
              "       [1109.0295 ],\n",
              "       [1099.4991 ],\n",
              "       [1089.5587 ]], dtype=float32)"
            ]
          },
          "metadata": {
            "tags": []
          },
          "execution_count": 33
        }
      ]
    },
    {
      "cell_type": "code",
      "metadata": {
        "colab": {
          "base_uri": "https://localhost:8080/",
          "height": 295
        },
        "id": "Azbm23Qqcl1U",
        "outputId": "c6c99d75-2941-4b78-860b-69f1322e4e29"
      },
      "source": [
        "plt.plot(real_stock_price,color = 'red', label = 'Real Price')\r\n",
        "plt.plot(predicted_price, color = 'blue', label = 'Predicted Price')\r\n",
        "plt.title('Google Stock Price Prediction')\r\n",
        "plt.xlabel('Time')\r\n",
        "plt.ylabel('Google Stock Price')\r\n",
        "plt.legend()\r\n",
        "plt.show()"
      ],
      "execution_count": 34,
      "outputs": [
        {
          "output_type": "display_data",
          "data": {
            "image/png": "[encoded data removed]",
            "text/plain": [
              "<Figure size 432x288 with 1 Axes>"
            ]
          },
          "metadata": {
            "tags": [],
            "needs_background": "light"
          }
        }
      ]
    }
  ]
}